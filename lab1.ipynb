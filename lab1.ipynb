{
 "cells": [
  {
   "cell_type": "markdown",
   "id": "300a7065-3c65-4461-916f-334dee81050c",
   "metadata": {},
   "source": [
    "# Домашнее задание к уроку 1: Основы PyTorch\n",
    "\n",
    "## Цель задания\n",
    "Закрепить навыки работы с тензорами PyTorch, изучить основные операции и научиться решать практические задачи.\n"
   ]
  },
  {
   "cell_type": "markdown",
   "id": "d46ea3c8-906a-444c-b979-8c59e187706e",
   "metadata": {},
   "source": [
    "## Задание 1: Создание и манипуляции с тензорами (25 баллов)\n",
    "\n",
    "Создайте файл `homework_tensors.py` и выполните следующие задачи:"
   ]
  },
  {
   "cell_type": "code",
   "execution_count": 74,
   "id": "f7ddcbdb-b521-47d1-9fea-aedb68d229ad",
   "metadata": {},
   "outputs": [],
   "source": [
    "import torch\n",
    "import numpy as np\n",
    "import time"
   ]
  },
  {
   "cell_type": "markdown",
   "id": "fff3dd3a-1223-4b87-ab56-ac9d9295cedb",
   "metadata": {},
   "source": [
    "### 1.1 Создание тензоров (7 баллов)\n",
    "```python\n",
    "# Создайте следующие тензоры:\n",
    "# - Тензор размером 3x4, заполненный случайными числами от 0 до 1\n",
    "# - Тензор размером 2x3x4, заполненный нулями\n",
    "# - Тензор размером 5x5, заполненный единицами\n",
    "# - Тензор размером 4x4 с числами от 0 до 15 (используйте reshape)"
   ]
  },
  {
   "cell_type": "code",
   "execution_count": 41,
   "id": "2d5c1423-c678-480e-8d13-155cb611194a",
   "metadata": {},
   "outputs": [
    {
     "name": "stdout",
     "output_type": "stream",
     "text": [
      "Тензор заполненный случайными числами от 0 до 1:\n",
      " tensor([[1, 1, 1, 0],\n",
      "        [1, 1, 0, 0],\n",
      "        [1, 0, 1, 1]])\n",
      "\n",
      "Тензор заполненный нулями:\n",
      " tensor([[[0., 0., 0., 0.],\n",
      "         [0., 0., 0., 0.],\n",
      "         [0., 0., 0., 0.]],\n",
      "\n",
      "        [[0., 0., 0., 0.],\n",
      "         [0., 0., 0., 0.],\n",
      "         [0., 0., 0., 0.]]])\n",
      "\n",
      "Тензор заполненный единицами:\n",
      " tensor([[1., 1., 1., 1., 1.],\n",
      "        [1., 1., 1., 1., 1.],\n",
      "        [1., 1., 1., 1., 1.],\n",
      "        [1., 1., 1., 1., 1.],\n",
      "        [1., 1., 1., 1., 1.]])\n",
      "\n",
      "Тензор размером 4x4:\n",
      " tensor([[ 0,  1,  2,  3],\n",
      "        [ 4,  5,  6,  7],\n",
      "        [ 8,  9, 10, 11],\n",
      "        [12, 13, 14, 15]])\n"
     ]
    }
   ],
   "source": [
    "tensor_rand = torch.randint(0, 2, (3,4))\n",
    "tensor_zeros = torch.zeros(2,3,4)\n",
    "tensor_ones = torch.ones(5,5)\n",
    "tensor_with_reshape = torch.arange(0, 16, 1).reshape(4, 4)\n",
    "print(\"Тензор заполненный случайными числами от 0 до 1:\\n\", tensor_rand)\n",
    "print(\"\\nТензор заполненный нулями:\\n\", tensor_zeros)\n",
    "print(\"\\nТензор заполненный единицами:\\n\", tensor_ones)\n",
    "print(\"\\nТензор размером 4x4:\\n\", tensor_with_reshape)"
   ]
  },
  {
   "cell_type": "markdown",
   "id": "bf4ba75b-c3f4-45eb-8430-7682b1130c2c",
   "metadata": {},
   "source": [
    "### 1.2 Операции с тензорами (6 баллов)\n",
    "```python\n",
    "# Дано: тензор A размером 3x4 и тензор B размером 4x3\n",
    "# Выполните:\n",
    "# - Транспонирование тензора A\n",
    "# - Матричное умножение A и B\n",
    "# - Поэлементное умножение A и транспонированного B\n",
    "# - Вычислите сумму всех элементов тензора A"
   ]
  },
  {
   "cell_type": "code",
   "execution_count": 37,
   "id": "d5fe5b4b-6e02-4e22-918d-8814bf6aa770",
   "metadata": {},
   "outputs": [
    {
     "name": "stdout",
     "output_type": "stream",
     "text": [
      "Исходный тензор A:\n",
      " tensor([[0.7727, 0.5725, 0.2910, 0.0985],\n",
      "        [0.0095, 0.2755, 0.1734, 0.4827],\n",
      "        [0.7356, 0.6747, 0.1067, 0.4525]])\n",
      "\n",
      "Исходный тензор B:\n",
      " tensor([[0.1595, 0.5948, 0.3087],\n",
      "        [0.3886, 0.0724, 0.5229],\n",
      "        [0.2976, 0.5473, 0.8877],\n",
      "        [0.6184, 0.2178, 0.9675]])\n",
      "\n",
      "Транспонированный тензор A:\n",
      " tensor([[0.7727, 0.0095, 0.7356],\n",
      "        [0.5725, 0.2755, 0.6747],\n",
      "        [0.2910, 0.1734, 0.1067],\n",
      "        [0.0985, 0.4827, 0.4525]])\n",
      "\n",
      "Матричное умножение A и B:\n",
      " tensor([[0.4932, 0.6818, 0.8915],\n",
      "        [0.4586, 0.2256, 0.7679],\n",
      "        [0.6911, 0.6434, 1.1124]])\n",
      "\n",
      "Поэлементное умножение A и транспонированного B:\n",
      " tensor([[0.1232, 0.2225, 0.0866, 0.0609],\n",
      "        [0.0057, 0.0200, 0.0949, 0.1051],\n",
      "        [0.2271, 0.3528, 0.0947, 0.4378]])\n",
      "\n",
      "Сумма всех элементов тензора A: 4.64525842666626\n"
     ]
    }
   ],
   "source": [
    "A = torch.rand(3, 4)\n",
    "B = torch.rand(4, 3)\n",
    "print('Исходный тензор A:\\n', A)\n",
    "print('\\nИсходный тензор B:\\n', B)\n",
    "print('\\nТранспонированный тензор A:\\n', A.T)\n",
    "print('\\nМатричное умножение A и B:\\n', torch.matmul(A, B))\n",
    "print('\\nПоэлементное умножение A и транспонированного B:\\n', A*B.T)\n",
    "print('\\nСумма всех элементов тензора A:', torch.sum(A).item())"
   ]
  },
  {
   "cell_type": "markdown",
   "id": "12eb9d84-62c0-42ea-99e4-101d55d8fe74",
   "metadata": {},
   "source": [
    "### 1.3 Индексация и срезы (6 баллов)\n",
    "```python\n",
    "# Создайте тензор размером 5x5x5\n",
    "# Извлеките:\n",
    "# - Первую строку\n",
    "# - Последний столбец\n",
    "# - Подматрицу размером 2x2 из центра тензора\n",
    "# - Все элементы с четными индексами\n",
    "```"
   ]
  },
  {
   "cell_type": "code",
   "execution_count": 56,
   "id": "28e611c5-b3eb-44dd-a060-07bd5576c6cb",
   "metadata": {},
   "outputs": [
    {
     "name": "stdout",
     "output_type": "stream",
     "text": [
      "Извлечем первую строку: tensor([0.4790, 0.4259, 0.3435, 0.3063, 0.5875])\n",
      "Извлечем последний столбец: tensor([[0.5875, 0.0602, 0.2492, 0.0058, 0.7767],\n",
      "        [0.6025, 0.5973, 0.3517, 0.7166, 0.1989],\n",
      "        [0.4499, 0.2812, 0.3432, 0.1062, 0.1053],\n",
      "        [0.1514, 0.6405, 0.0352, 0.2259, 0.1861],\n",
      "        [0.3550, 0.9894, 0.1790, 0.8761, 0.9108]])\n",
      "Подматрицу размером 2x2 из центра тензора:\n",
      " tensor([[[0.5046, 0.7502],\n",
      "         [0.9535, 0.8688]],\n",
      "\n",
      "        [[0.0565, 0.7312],\n",
      "         [0.3574, 0.5893]],\n",
      "\n",
      "        [[0.1770, 0.5398],\n",
      "         [0.9509, 0.7663]],\n",
      "\n",
      "        [[0.1491, 0.4735],\n",
      "         [0.0100, 0.3872]],\n",
      "\n",
      "        [[0.3001, 0.2379],\n",
      "         [0.4435, 0.0895]]])\n"
     ]
    }
   ],
   "source": [
    "tensor = torch.rand(5, 5, 5)\n",
    "print('Извлечем первую строку:', tensor[0,0])\n",
    "print('Извлечем последний столбец:', tensor[:,:,-1])\n",
    "print('Подматрицу размером 2x2 из центра тензора:\\n', tensor[:, 1:4:2, 1:4:2])"
   ]
  },
  {
   "cell_type": "markdown",
   "id": "2b28f62d-a4da-4bd7-9284-7f23bc56d236",
   "metadata": {},
   "source": [
    "### 1.4 Работа с формами (6 баллов)\n",
    "```python\n",
    "# Создайте тензор размером 24 элемента\n",
    "# Преобразуйте его в формы:\n",
    "# - 2x12\n",
    "# - 3x8\n",
    "# - 4x6\n",
    "# - 2x3x4\n",
    "# - 2x2x2x3\n",
    "```"
   ]
  },
  {
   "cell_type": "code",
   "execution_count": 61,
   "id": "72ab34ad-3f21-454c-9e77-bc5e374bd7c6",
   "metadata": {},
   "outputs": [
    {
     "name": "stdout",
     "output_type": "stream",
     "text": [
      "Размер (2, 12):\n",
      "tensor([[ 0,  1,  2,  3,  4,  5,  6,  7,  8,  9, 10, 11],\n",
      "        [12, 13, 14, 15, 16, 17, 18, 19, 20, 21, 22, 23]])\n",
      "\n",
      "Размер (3, 8):\n",
      "tensor([[ 0,  1,  2,  3,  4,  5,  6,  7],\n",
      "        [ 8,  9, 10, 11, 12, 13, 14, 15],\n",
      "        [16, 17, 18, 19, 20, 21, 22, 23]])\n",
      "\n",
      "Размер (4, 6):\n",
      "tensor([[ 0,  1,  2,  3,  4,  5],\n",
      "        [ 6,  7,  8,  9, 10, 11],\n",
      "        [12, 13, 14, 15, 16, 17],\n",
      "        [18, 19, 20, 21, 22, 23]])\n",
      "\n",
      "Размер (2, 3, 4):\n",
      "tensor([[[ 0,  1,  2,  3],\n",
      "         [ 4,  5,  6,  7],\n",
      "         [ 8,  9, 10, 11]],\n",
      "\n",
      "        [[12, 13, 14, 15],\n",
      "         [16, 17, 18, 19],\n",
      "         [20, 21, 22, 23]]])\n",
      "\n",
      "Размер (2, 2, 2, 3):\n",
      "tensor([[[[ 0,  1,  2],\n",
      "          [ 3,  4,  5]],\n",
      "\n",
      "         [[ 6,  7,  8],\n",
      "          [ 9, 10, 11]]],\n",
      "\n",
      "\n",
      "        [[[12, 13, 14],\n",
      "          [15, 16, 17]],\n",
      "\n",
      "         [[18, 19, 20],\n",
      "          [21, 22, 23]]]])\n",
      "\n"
     ]
    }
   ],
   "source": [
    "tensor = torch.arange(24)\n",
    "shapes = [(2, 12), (3, 8), (4, 6), (2, 3, 4), (2, 2, 2, 3)]\n",
    "\n",
    "for shape in shapes:\n",
    "    print(f'Размер {shape}:\\n {tensor.reshape(shape)}\\n')"
   ]
  },
  {
   "cell_type": "markdown",
   "id": "16d9f095-a54f-4c54-9a02-1ef75a142e09",
   "metadata": {},
   "source": [
    "## Задание 2: Автоматическое дифференцирование (25 баллов)\n",
    "\n",
    "Создайте файл `homework_autograd.py`:"
   ]
  },
  {
   "cell_type": "markdown",
   "id": "fdd2fde3-a2bd-4074-9841-7048b772f880",
   "metadata": {},
   "source": [
    "### 2.1 Простые вычисления с градиентами (8 баллов)\n",
    "```python\n",
    "# Создайте тензоры x, y, z с requires_grad=True\n",
    "# Вычислите функцию: f(x,y,z) = x^2 + y^2 + z^2 + 2*x*y*z\n",
    "# Найдите градиенты по всем переменным\n",
    "# Проверьте результат аналитически"
   ]
  },
  {
   "cell_type": "code",
   "execution_count": 66,
   "id": "4a3aab7c-815a-4482-9eda-fd7e96bfd290",
   "metadata": {},
   "outputs": [
    {
     "name": "stdout",
     "output_type": "stream",
     "text": [
      "Значение функции f: 77.0\n",
      "Градиент по x: 28.0\n",
      "Градиент по y: 22.0\n",
      "Градиент по z: 20.0\n",
      "Градиент по каждой оси, посчитанный аналитически: (28.0, 22.0, 20.0)\n"
     ]
    }
   ],
   "source": [
    "x = torch.tensor(2.0, requires_grad=True)\n",
    "y = torch.tensor(3.0, requires_grad=True)\n",
    "z = torch.tensor(4.0, requires_grad=True)\n",
    "\n",
    "f = x**2 + y**2 + z**2 + 2*x*y*z\n",
    "f.backward()\n",
    "\n",
    "grad_x = x.grad.item()\n",
    "grad_y = y.grad.item()\n",
    "grad_z = z.grad.item()\n",
    "\n",
    "print(f\"Значение функции f: {f.item():.1f}\")\n",
    "print(f\"Градиент по x: {grad_x:.1f}\")\n",
    "print(f\"Градиент по y: {grad_y:.1f}\")\n",
    "print(f\"Градиент по z: {grad_z:.1f}\")\n",
    "\n",
    "\n",
    "def analytical_gradients(x_val, y_val, z_val):\n",
    "    df_dx = 2*x_val + 2*y_val*z_val\n",
    "    df_dy = 2*y_val + 2*x_val*z_val\n",
    "    df_dz = 2*z_val + 2*x_val*y_val\n",
    "    return df_dx, df_dy, df_dz\n",
    "\n",
    "x_val = 2.0\n",
    "y_val = 3.0\n",
    "z_val = 4.0\n",
    "\n",
    "print('Градиент по каждой оси, посчитанный аналитически:', analytical_gradients(x_val, y_val, z_val))"
   ]
  },
  {
   "cell_type": "markdown",
   "id": "3d7dde1c-bb8b-45f3-946b-1ba56acf4ebe",
   "metadata": {},
   "source": [
    "### 2.2 Градиент функции потерь (9 баллов)\n",
    "```python\n",
    "# Реализуйте функцию MSE (Mean Squared Error):\n",
    "# MSE = (1/n) * Σ(y_pred - y_true)^2\n",
    "# где y_pred = w * x + b (линейная функция)\n",
    "# Найдите градиенты по w и b\n",
    "```"
   ]
  },
  {
   "cell_type": "code",
   "execution_count": 67,
   "id": "46d49186-acb4-4c6c-847e-9a1cfcd0e09c",
   "metadata": {},
   "outputs": [
    {
     "name": "stdout",
     "output_type": "stream",
     "text": [
      "MSE значение: 30.0000\n",
      "Градиент по w: -30.0000\n",
      "Градиент по b: -10.0000\n",
      "\n",
      "Аналитическая проверка:\n",
      "dL/dw: -30.0000\n",
      "dL/db: -10.0000\n"
     ]
    }
   ],
   "source": [
    "def mse_loss(x, y_true, w, b):\n",
    "    \"\"\"\n",
    "    Вычисляет MSE loss и градиенты по w и b\n",
    "    Args:\n",
    "        x: Входные данные (тензор)\n",
    "        y_true: Целевые значения (тензор)\n",
    "        w: Весовой коэффициент (тензор с requires_grad=True)\n",
    "        b: Смещение (тензор с requires_grad=True)\n",
    "    Returns:\n",
    "        loss: Значение MSE\n",
    "        grads: Словарь с градиентами\n",
    "    \"\"\"\n",
    "    y_pred = w * x + b\n",
    "    loss = torch.mean((y_pred - y_true)**2)\n",
    "    loss.backward()\n",
    "    grads = {'w': w.grad.item(), 'b': b.grad.item()}\n",
    "    \n",
    "    return loss.item(), grads\n",
    "\n",
    "\n",
    "\n",
    "#пример\n",
    "x = torch.tensor([1.0, 2.0, 3.0, 4.0])\n",
    "y_true = torch.tensor([2.0, 4.0, 6.0, 8.0]) \n",
    "w = torch.tensor(0.0, requires_grad=True)\n",
    "b = torch.tensor(0.0, requires_grad=True)\n",
    "loss_value, gradients = mse_loss(x, y_true, w, b)\n",
    "\n",
    "print(f\"MSE значение: {loss_value:.4f}\")\n",
    "print(f\"Градиент по w: {gradients['w']:.4f}\")\n",
    "print(f\"Градиент по b: {gradients['b']:.4f}\")\n",
    "\n",
    "\n",
    "def analytical_mse_gradients(x, y_true, w_val, b_val):\n",
    "    n = len(x)\n",
    "    y_pred = w_val * x + b_val\n",
    "    dL_dw = (2/n) * torch.sum((y_pred - y_true) * x)\n",
    "    dL_db = (2/n) * torch.sum(y_pred - y_true)\n",
    "    return dL_dw.item(), dL_db.item()\n",
    "\n",
    "b_val, w_val = 0.0, 0.0\n",
    "analytical_grad_w, analytical_grad_b = analytical_mse_gradients(x, y_true, w_val, b_val)\n",
    "\n",
    "print(\"\\nАналитическая проверка:\")\n",
    "print(f\"dL/dw: {analytical_grad_w:.4f}\")\n",
    "print(f\"dL/db: {analytical_grad_b:.4f}\")\n"
   ]
  },
  {
   "cell_type": "markdown",
   "id": "624d9c21-7cd9-4b17-8f48-7a06e5db56c1",
   "metadata": {},
   "source": [
    "### 2.3 Цепное правило (8 баллов)\n",
    "```python\n",
    "# Реализуйте составную функцию: f(x) = sin(x^2 + 1)\n",
    "# Найдите градиент df/dx\n",
    "# Проверьте результат с помощью torch.autograd.grad\n",
    "```"
   ]
  },
  {
   "cell_type": "code",
   "execution_count": 71,
   "id": "a9d339b1-e033-48df-9f7a-cddc1e961fb8",
   "metadata": {},
   "outputs": [],
   "source": [
    "x = torch.tensor(1.0, requires_grad=True)\n",
    "\n",
    "def composite_function(x):\n",
    "    return torch.sin(x**2 + 1)\n",
    "f = composite_function(x)\n",
    "# Метод 1: backward с сохранением графа\n",
    "f.backward()\n",
    "grad_backward = x.grad.item()"
   ]
  },
  {
   "cell_type": "code",
   "execution_count": 73,
   "id": "b9084e86-1108-48d5-a14d-b64823071b6d",
   "metadata": {},
   "outputs": [
    {
     "name": "stdout",
     "output_type": "stream",
     "text": [
      "Значение функции в x = 1: 0.9093\n",
      "Градиент (backward): -0.832294\n",
      "Градиент (autograd.grad): -0.832294\n"
     ]
    }
   ],
   "source": [
    "import torch\n",
    "import math\n",
    "x = torch.tensor(1.0, requires_grad=True)\n",
    "\n",
    "def composite_function(x):\n",
    "    return torch.sin(x**2 + 1)\n",
    "f = composite_function(x)\n",
    "\n",
    "# Метод 2: autograd.grad\n",
    "grad_autograd = torch.autograd.grad(outputs=f, inputs=x)[0].item()\n",
    "\n",
    "print(f\"Значение функции в x=1: {f.item():.4f}\")\n",
    "print(f\"Градиент (backward): {grad_backward:.6f}\")\n",
    "print(f\"Градиент (autograd.grad): {grad_autograd:.6f}\")\n"
   ]
  },
  {
   "cell_type": "markdown",
   "id": "79e1a1ce-ea86-44d2-8276-ab8ed704a0ae",
   "metadata": {},
   "source": [
    "## Задание 3: Сравнение производительности CPU vs CUDA (20 баллов)\n",
    "\n",
    "Создайте файл `homework_performance.py`:\n"
   ]
  },
  {
   "cell_type": "markdown",
   "id": "a1e4eb0a-c02d-4629-a5dc-782d459cefe5",
   "metadata": {},
   "source": [
    "### 3.1 Подготовка данных (5 баллов)\n",
    "```python\n",
    "# Создайте большие матрицы размеров:\n",
    "# - 64 x 1024 x 1024\n",
    "# - 128 x 512 x 512\n",
    "# - 256 x 256 x 256\n",
    "# Заполните их случайными числами"
   ]
  },
  {
   "cell_type": "code",
   "execution_count": 78,
   "id": "ec5ed407-3737-491f-b07d-6f807d49a3ee",
   "metadata": {},
   "outputs": [
    {
     "name": "stdout",
     "output_type": "stream",
     "text": [
      "\n",
      "Создание тензора 64x1024x1024...\n",
      "Создано за 0.02 сек\n",
      "\n",
      "Создание тензора 128x512x512...\n",
      "Создано за 0.00 сек\n",
      "\n",
      "Создание тензора 256x256x256...\n",
      "Создано за 0.00 сек\n"
     ]
    }
   ],
   "source": [
    "import torch\n",
    "import time\n",
    "\n",
    "device = torch.device('cuda')\n",
    "\n",
    "print(\"\\nСоздание тензора 64x1024x1024...\")\n",
    "start_time = time.time()\n",
    "tensor1 = torch.rand(64, 1024, 1024, device=device)\n",
    "creation_time = time.time() - start_time\n",
    "print(f\"Создано за {creation_time:.2f} сек\")\n",
    "\n",
    "print(\"\\nСоздание тензора 128x512x512...\")\n",
    "start_time = time.time()\n",
    "tensor2 = torch.rand(128, 512, 512, device=device)\n",
    "creation_time = time.time() - start_time\n",
    "print(f\"Создано за {creation_time:.2f} сек\")\n",
    "\n",
    "print(\"\\nСоздание тензора 256x256x256...\")\n",
    "start_time = time.time()\n",
    "tensor3 = torch.rand(256, 256, 256, device=device)\n",
    "creation_time = time.time() - start_time\n",
    "print(f\"Создано за {creation_time:.2f} сек\")"
   ]
  },
  {
   "cell_type": "markdown",
   "id": "bf3ff632-88a4-4921-bcc1-3ec06b53b8df",
   "metadata": {},
   "source": [
    "### 3.2 Функция измерения времени (5 баллов)\n",
    "```python\n",
    "# Создайте функцию для измерения времени выполнения операций\n",
    "# Используйте torch.cuda.Event() для точного измерения на GPU\n",
    "# Используйте time.time() для измерения на CPU\n",
    "```"
   ]
  },
  {
   "cell_type": "code",
   "execution_count": 82,
   "id": "3d4f84ad-1460-44f5-a7d8-b0fcfd3ab747",
   "metadata": {},
   "outputs": [
    {
     "name": "stdout",
     "output_type": "stream",
     "text": [
      "Время матричного умножения на CPU: 494.47 мс\n",
      "Время матричного умножения на GPU: 50.75 мс\n",
      "Ускорение: 9.74x\n"
     ]
    }
   ],
   "source": [
    "import torch\n",
    "import time\n",
    "\n",
    "def measure_time(operation, device, *args, **kwargs):\n",
    "    \"\"\"\n",
    "    Измеряет время выполнения операции на указанном устройстве.\n",
    "    \n",
    "    Args:\n",
    "        operation: Функция, время выполнения которой нужно измерить\n",
    "        device: 'cpu' или 'cuda'\n",
    "        *args: Позиционные аргументы для операции\n",
    "        **kwargs: Именованные аргументы для операции\n",
    "    \n",
    "    Returns:\n",
    "        execution_time: Время выполнения в миллисекундах\n",
    "        result: Результат выполнения операции\n",
    "    \"\"\"\n",
    "    start_time = None\n",
    "    end_time = None\n",
    "    start_event = None\n",
    "    end_event = None\n",
    "    \n",
    "    if device == 'cuda':\n",
    "        start_event = torch.cuda.Event(enable_timing=True)\n",
    "        end_event = torch.cuda.Event(enable_timing=True)\n",
    "        torch.cuda.synchronize()\n",
    "        start_event.record()\n",
    "    else:\n",
    "        start_time = time.perf_counter()\n",
    "    \n",
    "    result = operation(*args, **kwargs)\n",
    "    \n",
    "\n",
    "    if device == 'cuda':\n",
    "        end_event.record()\n",
    "        torch.cuda.synchronize() \n",
    "        execution_time = start_event.elapsed_time(end_event)\n",
    "    else:\n",
    "        end_time = time.perf_counter()\n",
    "        execution_time = (end_time - start_time) * 1000  \n",
    "    \n",
    "    return execution_time, result\n",
    "\n",
    "\n",
    "if __name__ == \"__main__\":\n",
    "    size = 4096\n",
    "    a_cpu = torch.rand(size, size)\n",
    "    b_cpu = torch.rand(size, size)\n",
    "    \n",
    "    def matmul_cpu():\n",
    "        return torch.matmul(a_cpu, b_cpu)\n",
    "    cpu_time, _ = measure_time(matmul_cpu, 'cpu')\n",
    "    print(f\"Время матричного умножения на CPU: {cpu_time:.2f} мс\")\n",
    "    \n",
    "    a_gpu = a_cpu.cuda()\n",
    "    b_gpu = b_cpu.cuda()\n",
    "    \n",
    "    def matmul_gpu():\n",
    "        return torch.matmul(a_gpu, b_gpu)\n",
    "    _, _ = measure_time(matmul_gpu, 'cuda')\n",
    "    \n",
    "    gpu_time, _ = measure_time(matmul_gpu, 'cuda')\n",
    "    print(f\"Время матричного умножения на GPU: {gpu_time:.2f} мс\")\n",
    "    print(f\"Ускорение: {cpu_time/gpu_time:.2f}x\")"
   ]
  },
  {
   "cell_type": "markdown",
   "id": "91b7c944-f9ab-4d45-acb2-6f22723d83d2",
   "metadata": {},
   "source": [
    "### 3.3 Сравнение операций (10 баллов)\n",
    "```python\n",
    "# Сравните время выполнения следующих операций на CPU и CUDA:\n",
    "# - Матричное умножение (torch.matmul)\n",
    "# - Поэлементное сложение\n",
    "# - Поэлементное умножение\n",
    "# - Транспонирование\n",
    "# - Вычисление суммы всех элементов\n",
    "\n",
    "# Для каждой операции:\n",
    "# 1. Измерьте время на CPU\n",
    "# 2. Измерьте время на GPU (если доступен)\n",
    "# 3. Вычислите ускорение (speedup)\n",
    "# 4. Выведите результаты в табличном виде\n",
    "```\n",
    "\n",
    "### Пример вывода:\n",
    "```\n",
    "Операция          | CPU (мс) | GPU (мс) | Ускорение\n",
    "Матричное умножение|   150.2  |    12.3  |   12.2x\n",
    "Сложение          |    45.1  |     3.2  |   14.1x\n",
    "...\n",
    "```"
   ]
  },
  {
   "cell_type": "code",
   "execution_count": 19,
   "id": "03c6d93a-1339-4d42-8eb1-18a43675a8d6",
   "metadata": {},
   "outputs": [
    {
     "name": "stdout",
     "output_type": "stream",
     "text": [
      "Используемое устройство: cuda\n",
      "\n",
      "Результаты производительности:\n",
      "Операция                  | CPU (мс)   | GPU (мс)   | Ускорение\n",
      "------------------------------------------------------------\n",
      "Матричное умножение       | 897.8318   | 91.3203    | 9.8x\n",
      "Поэлементное сложение     | 17.6869    | 1.7698     | 10.0x\n",
      "Поэлементное умножение    | 18.1634    | 1.7698     | 10.3x\n",
      "Транспонирование          | 0.0149     | 0.0000     | 1451.2x\n",
      "Сумма                     | 3.1269     | 0.5906     | 5.3x\n"
     ]
    }
   ],
   "source": [
    "device = torch.device('cuda' if torch.cuda.is_available() else 'cpu')\n",
    "print(f\"Используемое устройство: {device}\")\n",
    "\n",
    "size = 5000\n",
    "repeats = {\n",
    "    'Матричное умножение': 3,\n",
    "    'Поэлементное сложение': 10,\n",
    "    'Поэлементное умножение': 10,\n",
    "    'Транспонирование': 100,\n",
    "    'Сумма': 100\n",
    "}\n",
    "\n",
    "A_cpu = torch.randn(size, size)\n",
    "B_cpu = torch.randn(size, size)\n",
    "\n",
    "A_gpu = A_cpu.to(device)\n",
    "B_gpu = B_cpu.to(device)\n",
    "\n",
    "def measure_cpu_time(operation, repeats):\n",
    "    \"\"\"Измерение времени выполнения операции на CPU\"\"\"  \n",
    "    start_time = time.perf_counter()\n",
    "    for _ in range(repeats):\n",
    "        operation()\n",
    "    end_time = time.perf_counter()\n",
    "    \n",
    "    return (end_time - start_time) * 1000 / repeats\n",
    "\n",
    "def measure_gpu_time(operation, repeats):\n",
    "    \"\"\"Измерение времени выполнения операции на GPU\"\"\"\n",
    "    operation()\n",
    "    torch.cuda.synchronize()\n",
    "    \n",
    "    start_event = torch.cuda.Event(enable_timing=True)\n",
    "    end_event = torch.cuda.Event(enable_timing=True)\n",
    "    start_event.record()\n",
    "    for _ in range(repeats):\n",
    "        operation()\n",
    "    end_event.record()\n",
    "    torch.cuda.synchronize()\n",
    "    \n",
    "    return start_event.elapsed_time(end_event) / repeats\n",
    "\n",
    "\n",
    "results = []\n",
    "\n",
    "cpu_time = measure_cpu_time(lambda: torch.matmul(A_cpu, B_cpu), repeats['Матричное умножение'])\n",
    "gpu_time = measure_gpu_time(lambda: torch.matmul(A_gpu, B_gpu), repeats['Матричное умножение'])\n",
    "speedup = cpu_time / gpu_time\n",
    "results.append(('Матричное умножение', cpu_time, gpu_time, speedup))\n",
    "\n",
    "cpu_time = measure_cpu_time(lambda: A_cpu + B_cpu, repeats['Поэлементное сложение'])\n",
    "\n",
    "gpu_time = measure_gpu_time(lambda: A_gpu + B_gpu, repeats['Поэлементное сложение'])\n",
    "speedup = cpu_time / gpu_time\n",
    "results.append(('Поэлементное сложение', cpu_time, gpu_time, speedup))\n",
    "\n",
    "cpu_time = measure_cpu_time(lambda: A_cpu * B_cpu, repeats['Поэлементное умножение'])\n",
    "gpu_time = measure_gpu_time(lambda: A_gpu * B_gpu, repeats['Поэлементное умножение'])\n",
    "speedup = cpu_time / gpu_time\n",
    "results.append(('Поэлементное умножение', cpu_time, gpu_time, speedup))\n",
    "\n",
    "cpu_time = measure_cpu_time(lambda: A_cpu.t(), repeats['Транспонирование'])\n",
    "gpu_time = measure_gpu_time(lambda: A_gpu.t(), repeats['Транспонирование'])\n",
    "speedup = cpu_time / gpu_time\n",
    "results.append(('Транспонирование', cpu_time, gpu_time, speedup))\n",
    "\n",
    "cpu_time = measure_cpu_time(lambda: A_cpu.sum(), repeats['Сумма'])\n",
    "gpu_time = measure_gpu_time(lambda: A_gpu.sum(), repeats['Сумма'])\n",
    "speedup = cpu_time / gpu_time\n",
    "results.append(('Сумма', cpu_time, gpu_time, speedup))\n",
    "\n",
    "print(\"\\nРезультаты производительности:\")\n",
    "print(f\"{'Операция':<25} | {'CPU (мс)':<10} | {'GPU (мс)':<10} | {'Ускорение'}\")\n",
    "for op, cpu, gpu, speed in results:\n",
    "    cpu_str = f\"{cpu:.4f}\" if cpu is not None else \"N/A\"\n",
    "    gpu_str = f\"{gpu:.4f}\" if gpu is not None else \"N/A\"\n",
    "    speed_str = f\"{speed:.1f}x\" if speed is not None else \"N/A\"\n",
    "    print(f\"{op:<25} | {cpu_str:<10} | {gpu_str:<10} | {speed_str}\")"
   ]
  },
  {
   "cell_type": "markdown",
   "id": "d991765b-e48c-463b-ac01-bdbf131adefb",
   "metadata": {},
   "source": [
    "### 3.4 Анализ результатов (5 баллов)\n",
    "```python\n",
    "# Проанализируйте результаты:\n",
    "# - Какие операции получают наибольшее ускорение на GPU?\n",
    "# - Почему некоторые операции могут быть медленнее на GPU?\n",
    "# - Как размер матриц влияет на ускорение?\n",
    "# - Что происходит при передаче данных между CPU и GPU?\n",
    "```"
   ]
  },
  {
   "cell_type": "markdown",
   "id": "cd253498-82b5-4cce-a2c5-2ea3669ebd5d",
   "metadata": {},
   "source": [
    "#### Какие операции получают наибольшее ускорение на GPU?\n",
    "С высокой арифметической интенсивностью (матричное умножение), поэлементные операции, обработка большого объема данных\n",
    "#### Почему некоторые операции могут быть медленнее на GPU?\n",
    "Большие расходы на передачу данных между CPU и GPU; Операции с зависимостями данных(рекурсия);\n",
    "#### Как размер матриц влияет на ускорение?\n",
    "Чем больше матрица, тем выше скорость обработки. При обработке маленьких матриц может быть ситуация, что вообще нет ускорения. \n",
    "#### Что происходит при передаче данных между CPU и GPU?\n",
    "Из памяти CPU передаются данные на шину, которая отправляет дальше к памяти GPU."
   ]
  },
  {
   "cell_type": "code",
   "execution_count": null,
   "id": "65f47879-215b-401e-95ee-2b5cbeb7b5f3",
   "metadata": {},
   "outputs": [],
   "source": []
  }
 ],
 "metadata": {
  "kernelspec": {
   "display_name": "Python 3 (ipykernel)",
   "language": "python",
   "name": "python3"
  },
  "language_info": {
   "codemirror_mode": {
    "name": "ipython",
    "version": 3
   },
   "file_extension": ".py",
   "mimetype": "text/x-python",
   "name": "python",
   "nbconvert_exporter": "python",
   "pygments_lexer": "ipython3",
   "version": "3.12.3"
  }
 },
 "nbformat": 4,
 "nbformat_minor": 5
}
